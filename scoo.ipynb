{
 "cells": [
  {
   "cell_type": "code",
   "execution_count": 1,
   "metadata": {},
   "outputs": [],
   "source": [
    "from selenium import webdriver\n",
    "from bs4 import BeautifulSoup\n",
    "import time\n",
    "import requests\n",
    "\n",
    "from gensim.summarization.summarizer import summarize\n",
    "from gensim.summarization import keywords"
   ]
  },
  {
   "cell_type": "code",
   "execution_count": 2,
   "metadata": {},
   "outputs": [],
   "source": [
    "from selenium import webdriver\n",
    "from bs4 import BeautifulSoup\n",
    "import time\n",
    "import requests\n",
    "\n",
    "from gensim.summarization.summarizer import summarize\n",
    "from gensim.summarization import keywords"
   ]
  },
  {
   "cell_type": "code",
   "execution_count": 3,
   "metadata": {},
   "outputs": [],
   "source": [
    "url = \"http://adobesummit.scoonews.com/speaker.html\"\n",
    "\n",
    "page = requests.get(url)   \n",
    "\n",
    "soup = BeautifulSoup(page.content, 'html.parser')\n",
    "\n",
    "speakers = soup.find_all('div',attrs={'class':'speaker-details'})"
   ]
  },
  {
   "cell_type": "code",
   "execution_count": 4,
   "metadata": {},
   "outputs": [
    {
     "name": "stdout",
     "output_type": "stream",
     "text": [
      "['speaker/arunabh-singh.html', 'speaker/bijoy-sahoo.html', 'speaker/jagpreet-singh.html', 'speaker/madhav-deo-saraswat.html', 'speaker/mahesh-balakrishnan.html', 'speaker/neeta-bali.html', 'speaker/raghav-podar.html', 'speaker/reekrit-serai.html', 'speaker/roshan-gandhi.html', 'speaker/skand-bali.html', 'speaker/mala-sharma.html', 'speaker/ben-forta.html', 'speaker/sunder-madakshira.html', 'speaker/garima-babbar.html']\n"
     ]
    }
   ],
   "source": [
    "links=[]\n",
    "\n",
    "for a in soup.select('div.speaker-details > a.btn'):\n",
    "    links.append(str(a['href']))\n",
    "\n",
    "print(links)"
   ]
  },
  {
   "cell_type": "code",
   "execution_count": 5,
   "metadata": {},
   "outputs": [],
   "source": [
    "tada = []\n",
    "names = []\n",
    "for link in links:\n",
    "    linked = requests.get(\"http://adobesummit.scoonews.com/\"+link)  \n",
    "\n",
    "    data = ''\n",
    "    \n",
    "    for h in BeautifulSoup(linked.content, 'html.parser').find('div',attrs={'class':'speaker-details'}).find_all('h1'):\n",
    "        names.append(h.text)\n",
    "    \n",
    "    for p in BeautifulSoup(linked.content, 'html.parser').find('div',attrs={'class':'speaker-details'}).find_all('p'):\n",
    "        data+=p.text\n",
    "    \n",
    "    tada.append(data)"
   ]
  },
  {
   "cell_type": "code",
   "execution_count": 6,
   "metadata": {},
   "outputs": [],
   "source": [
    "i=0\n",
    "summaries = []\n",
    "for ta in tada:\n",
    "    summaries.append(summarize(str(ta),word_count=100))\n",
    "    i+=1"
   ]
  },
  {
   "cell_type": "code",
   "execution_count": 7,
   "metadata": {},
   "outputs": [],
   "source": [
    "link = \"http://adobesummit.scoonews.com/speaker.html\"\n",
    "\n",
    "page = requests.get(link)\n",
    "soup = BeautifulSoup(page.content, 'html.parser')\n",
    "\n",
    "i=0\n",
    "import urllib.request\n",
    "for images in soup.select('div.col-sm-12.col-md-6.col-lg-3.profile-pic'):\n",
    "    urllib.request.urlretrieve('http://adobesummit.scoonews.com/'+images.img['src'],str(i)+'.jpg')\n",
    "    i+=1"
   ]
  },
  {
   "cell_type": "code",
   "execution_count": 8,
   "metadata": {
    "scrolled": true
   },
   "outputs": [],
   "source": [
    "from docx import Document\n",
    "from docx.shared import Inches\n",
    "\n",
    "document = Document()\n",
    "\n",
    "from docx.enum.style import WD_STYLE_TYPE\n",
    "styles = document.styles\n",
    "paragraph_styles = [s for s in styles if s.type == WD_STYLE_TYPE.PARAGRAPH]\n",
    "\n",
    "i=0\n",
    "for summary in summaries:\n",
    "    heading=document.add_heading(names[i], 0)\n",
    "    document.add_picture(str(i)+'.jpg', width=Inches(1.25))\n",
    "    k=0\n",
    "    for line in summary.split('\\n'):\n",
    "        if(k==0):\n",
    "            k+=1\n",
    "            continue\n",
    "        para=document.add_paragraph(line)\n",
    "        para.style = document.styles['List Bullet']\n",
    "    \n",
    "    document.add_paragraph('\\n\\n\\n')\n",
    "    i+=1\n",
    "\n",
    "document.save('demo.docx')\n"
   ]
  }
 ],
 "metadata": {
  "kernelspec": {
   "display_name": "Python 3",
   "language": "python",
   "name": "python3"
  },
  "language_info": {
   "codemirror_mode": {
    "name": "ipython",
    "version": 3
   },
   "file_extension": ".py",
   "mimetype": "text/x-python",
   "name": "python",
   "nbconvert_exporter": "python",
   "pygments_lexer": "ipython3",
   "version": "3.7.0"
  }
 },
 "nbformat": 4,
 "nbformat_minor": 2
}
